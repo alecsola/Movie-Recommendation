{
 "cells": [
  {
   "cell_type": "code",
   "execution_count": null,
   "id": "4ac23032",
   "metadata": {},
   "outputs": [],
   "source": [
    "import streamlit as st\n",
    "from langchain.llms import OpenAI\n",
    "\n",
    "st.title('🦜🔗 Quickstart App')\n",
    "\n",
    "openai_api_key = st.sidebar.text_input('OpenAI API Key')\n",
    "\n",
    "def generate_response(input_text):\n",
    "  llm = OpenAI(temperature=0.7, openai_api_key=openai_api_key)\n",
    "  st.info(llm(input_text))\n",
    "\n",
    "with st.form('my_form'):\n",
    "  text = st.text_area('Enter text:', 'What are the three key pieces of advice for learning how to code?')\n",
    "  submitted = st.form_submit_button('Submit')\n",
    "  if not openai_api_key.startswith('sk-'):\n",
    "    st.warning('Please enter your OpenAI API key!', icon='⚠')\n",
    "  if submitted and openai_api_key.startswith('sk-'):\n",
    "    generate_response(text)"
   ]
  }
 ],
 "metadata": {
  "language_info": {
   "name": "python"
  }
 },
 "nbformat": 4,
 "nbformat_minor": 5
}
